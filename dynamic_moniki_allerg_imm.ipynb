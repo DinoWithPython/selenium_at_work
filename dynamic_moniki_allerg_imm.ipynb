{
 "cells": [
  {
   "cell_type": "code",
   "execution_count": 1,
   "id": "b65e0bcc",
   "metadata": {},
   "outputs": [],
   "source": [
    "from sqlite3 import connect\n",
    "import os\n",
    "import shutil\n",
    "\n",
    "import pandas as pd\n",
    "import matplotlib.pyplot as plt\n",
    "import matplotlib.ticker as ticker\n",
    "from matplotlib.pyplot import figure\n",
    "\n",
    "# cd .\\Desktop\\python\\jupiter_projects\\moniki\\\n",
    "# Для одной большой пдф\n",
    "# jupyter nbconvert --to webpdf --no-input popul_gp1.ipynb\n",
    "\n",
    "# Для сохранения как html, но потом можно в pdf и уже странично.\n",
    "# jupyter nbconvert --to html --no-input dynamic_moniki.ipynb"
   ]
  },
  {
   "cell_type": "code",
   "execution_count": 2,
   "id": "b6c453e0",
   "metadata": {},
   "outputs": [],
   "source": [
    "conn = connect(r'selen_4.0.2\\poliklinika\\moniki\\database\\data_analisys.db')\n",
    "data = pd.read_sql_query(\n",
    "    'SELECT * FROM moniki_data',\n",
    "    conn\n",
    ")\n",
    "\n",
    "free_cell = pd.read_sql_query(\n",
    "    'SELECT * FROM moniki_specialties',\n",
    "    conn\n",
    ")\n",
    "\n",
    "need_record = pd.read_sql_query(\n",
    "    'SELECT * FROM moniki_records',\n",
    "    conn\n",
    ")\n",
    "\n",
    "data['date_adding'] = pd.to_datetime(data['date_adding'], format='%Y-%m-%d %H:%M:%S')\n",
    "data['count_talons'] = data['count_talons'] * -1\n",
    "#data.info()"
   ]
  },
  {
   "cell_type": "markdown",
   "id": "3992f8cc",
   "metadata": {},
   "source": [
    "# Анализ открытия ячеек расписания для МОНИКИ по конкретной специальности."
   ]
  },
  {
   "cell_type": "markdown",
   "id": "9440d37e",
   "metadata": {},
   "source": [
    "Обратите внимание, при указании в таблицах, например часа \"8\", учитывается время <font color=\"red\">с \"8:00\" по \"8:59\"</font>.\n",
    "    \n",
    "Информация актуальна за период в 30 дней до текущего дня и носит **ознакомительный характер**."
   ]
  },
  {
   "cell_type": "markdown",
   "id": "c5878f56",
   "metadata": {},
   "source": [
    "### Дата и количество добавлений ячеек расписания."
   ]
  },
  {
   "cell_type": "code",
   "execution_count": 3,
   "id": "aec12a66",
   "metadata": {
    "scrolled": false
   },
   "outputs": [
    {
     "data": {
      "text/html": [
       "<div>\n",
       "<style scoped>\n",
       "    .dataframe tbody tr th:only-of-type {\n",
       "        vertical-align: middle;\n",
       "    }\n",
       "\n",
       "    .dataframe tbody tr th {\n",
       "        vertical-align: top;\n",
       "    }\n",
       "\n",
       "    .dataframe thead th {\n",
       "        text-align: right;\n",
       "    }\n",
       "</style>\n",
       "<table border=\"1\" class=\"dataframe\">\n",
       "  <thead>\n",
       "    <tr style=\"text-align: right;\">\n",
       "      <th></th>\n",
       "      <th>Дата и время добавления</th>\n",
       "      <th>Специальность</th>\n",
       "      <th>Количество талонов</th>\n",
       "    </tr>\n",
       "  </thead>\n",
       "  <tbody>\n",
       "    <tr>\n",
       "      <th>28</th>\n",
       "      <td>2024-01-23 10:12:06.208080</td>\n",
       "      <td>Аллергология и иммунология</td>\n",
       "      <td>19</td>\n",
       "    </tr>\n",
       "    <tr>\n",
       "      <th>52</th>\n",
       "      <td>2024-01-24 00:19:11.654129</td>\n",
       "      <td>Аллергология и иммунология</td>\n",
       "      <td>10</td>\n",
       "    </tr>\n",
       "    <tr>\n",
       "      <th>88</th>\n",
       "      <td>2024-01-25 00:24:40.197718</td>\n",
       "      <td>Аллергология и иммунология</td>\n",
       "      <td>19</td>\n",
       "    </tr>\n",
       "    <tr>\n",
       "      <th>113</th>\n",
       "      <td>2024-01-25 10:08:14.661431</td>\n",
       "      <td>Аллергология и иммунология</td>\n",
       "      <td>2</td>\n",
       "    </tr>\n",
       "    <tr>\n",
       "      <th>147</th>\n",
       "      <td>2024-01-26 00:46:12.215415</td>\n",
       "      <td>Аллергология и иммунология</td>\n",
       "      <td>29</td>\n",
       "    </tr>\n",
       "    <tr>\n",
       "      <th>212</th>\n",
       "      <td>2024-01-30 00:22:10.316675</td>\n",
       "      <td>Аллергология и иммунология</td>\n",
       "      <td>19</td>\n",
       "    </tr>\n",
       "    <tr>\n",
       "      <th>252</th>\n",
       "      <td>2024-01-31 00:33:11.892871</td>\n",
       "      <td>Аллергология и иммунология</td>\n",
       "      <td>10</td>\n",
       "    </tr>\n",
       "    <tr>\n",
       "      <th>298</th>\n",
       "      <td>2024-02-01 00:21:52.813195</td>\n",
       "      <td>Аллергология и иммунология</td>\n",
       "      <td>19</td>\n",
       "    </tr>\n",
       "    <tr>\n",
       "      <th>342</th>\n",
       "      <td>2024-02-01 13:29:53.102473</td>\n",
       "      <td>Аллергология и иммунология</td>\n",
       "      <td>3</td>\n",
       "    </tr>\n",
       "    <tr>\n",
       "      <th>354</th>\n",
       "      <td>2024-02-02 00:35:18.253061</td>\n",
       "      <td>Аллергология и иммунология</td>\n",
       "      <td>10</td>\n",
       "    </tr>\n",
       "    <tr>\n",
       "      <th>416</th>\n",
       "      <td>2024-02-06 00:31:05.012466</td>\n",
       "      <td>Аллергология и иммунология</td>\n",
       "      <td>19</td>\n",
       "    </tr>\n",
       "    <tr>\n",
       "      <th>453</th>\n",
       "      <td>2024-02-06 19:23:11.453636</td>\n",
       "      <td>Аллергология и иммунология</td>\n",
       "      <td>2</td>\n",
       "    </tr>\n",
       "    <tr>\n",
       "      <th>497</th>\n",
       "      <td>2024-02-08 09:56:32.810534</td>\n",
       "      <td>Аллергология и иммунология</td>\n",
       "      <td>19</td>\n",
       "    </tr>\n",
       "    <tr>\n",
       "      <th>512</th>\n",
       "      <td>2024-02-08 11:10:49.698453</td>\n",
       "      <td>Аллергология и иммунология</td>\n",
       "      <td>2</td>\n",
       "    </tr>\n",
       "    <tr>\n",
       "      <th>534</th>\n",
       "      <td>2024-02-09 01:16:44.826481</td>\n",
       "      <td>Аллергология и иммунология</td>\n",
       "      <td>30</td>\n",
       "    </tr>\n",
       "    <tr>\n",
       "      <th>586</th>\n",
       "      <td>2024-02-09 13:50:19.402696</td>\n",
       "      <td>Аллергология и иммунология</td>\n",
       "      <td>2</td>\n",
       "    </tr>\n",
       "    <tr>\n",
       "      <th>603</th>\n",
       "      <td>2024-02-11 12:08:59.755730</td>\n",
       "      <td>Аллергология и иммунология</td>\n",
       "      <td>3</td>\n",
       "    </tr>\n",
       "    <tr>\n",
       "      <th>611</th>\n",
       "      <td>2024-02-13 09:51:07.358921</td>\n",
       "      <td>Аллергология и иммунология</td>\n",
       "      <td>20</td>\n",
       "    </tr>\n",
       "    <tr>\n",
       "      <th>662</th>\n",
       "      <td>2024-02-14 09:32:09.545315</td>\n",
       "      <td>Аллергология и иммунология</td>\n",
       "      <td>11</td>\n",
       "    </tr>\n",
       "    <tr>\n",
       "      <th>716</th>\n",
       "      <td>2024-02-15 09:15:04.414009</td>\n",
       "      <td>Аллергология и иммунология</td>\n",
       "      <td>20</td>\n",
       "    </tr>\n",
       "    <tr>\n",
       "      <th>781</th>\n",
       "      <td>2024-02-16 10:57:42.094927</td>\n",
       "      <td>Аллергология и иммунология</td>\n",
       "      <td>12</td>\n",
       "    </tr>\n",
       "  </tbody>\n",
       "</table>\n",
       "</div>"
      ],
      "text/plain": [
       "       Дата и время добавления               Специальность  Количество талонов\n",
       "28  2024-01-23 10:12:06.208080  Аллергология и иммунология                  19\n",
       "52  2024-01-24 00:19:11.654129  Аллергология и иммунология                  10\n",
       "88  2024-01-25 00:24:40.197718  Аллергология и иммунология                  19\n",
       "113 2024-01-25 10:08:14.661431  Аллергология и иммунология                   2\n",
       "147 2024-01-26 00:46:12.215415  Аллергология и иммунология                  29\n",
       "212 2024-01-30 00:22:10.316675  Аллергология и иммунология                  19\n",
       "252 2024-01-31 00:33:11.892871  Аллергология и иммунология                  10\n",
       "298 2024-02-01 00:21:52.813195  Аллергология и иммунология                  19\n",
       "342 2024-02-01 13:29:53.102473  Аллергология и иммунология                   3\n",
       "354 2024-02-02 00:35:18.253061  Аллергология и иммунология                  10\n",
       "416 2024-02-06 00:31:05.012466  Аллергология и иммунология                  19\n",
       "453 2024-02-06 19:23:11.453636  Аллергология и иммунология                   2\n",
       "497 2024-02-08 09:56:32.810534  Аллергология и иммунология                  19\n",
       "512 2024-02-08 11:10:49.698453  Аллергология и иммунология                   2\n",
       "534 2024-02-09 01:16:44.826481  Аллергология и иммунология                  30\n",
       "586 2024-02-09 13:50:19.402696  Аллергология и иммунология                   2\n",
       "603 2024-02-11 12:08:59.755730  Аллергология и иммунология                   3\n",
       "611 2024-02-13 09:51:07.358921  Аллергология и иммунология                  20\n",
       "662 2024-02-14 09:32:09.545315  Аллергология и иммунология                  11\n",
       "716 2024-02-15 09:15:04.414009  Аллергология и иммунология                  20\n",
       "781 2024-02-16 10:57:42.094927  Аллергология и иммунология                  12"
      ]
     },
     "execution_count": 3,
     "metadata": {},
     "output_type": "execute_result"
    }
   ],
   "source": [
    "need_spec = 'Аллергология и иммунология'\n",
    "add_spec_in_datetime = data[data['name'] == need_spec]\n",
    "add_spec_in_datetime.columns = ['Дата и время добавления', 'Специальность', 'Количество талонов']\n",
    "add_spec_in_datetime"
   ]
  },
  {
   "cell_type": "markdown",
   "id": "7e73a8b4",
   "metadata": {},
   "source": [
    "### Количество открытий расписания по часам."
   ]
  },
  {
   "cell_type": "code",
   "execution_count": 4,
   "id": "296d7f1c",
   "metadata": {},
   "outputs": [
    {
     "data": {
      "image/png": "[encoded data removed]",
      "text/plain": [
       "<Figure size 432x288 with 1 Axes>"
      ]
     },
     "metadata": {
      "needs_background": "light"
     },
     "output_type": "display_data"
    }
   ],
   "source": [
    "add_hour = data[data['name'] == need_spec]['date_adding'].dt.hour.value_counts()\n",
    "add_hour = add_hour.reset_index()\n",
    "add_hour.columns = ['Час добавления', 'Количество добавлений']\n",
    "#display(add_hour.style.hide_index())\n",
    "\n",
    "plt.barh(y=add_hour['Час добавления'], width=add_hour['Количество добавлений'])\n",
    "plt.ylabel('Часы')\n",
    "plt.xlabel('Количество добавлений')\n",
    "plt.show()"
   ]
  },
  {
   "cell_type": "markdown",
   "id": "f461b9ff",
   "metadata": {},
   "source": [
    "### Вероятность открытия ячеек в конкретный час."
   ]
  },
  {
   "cell_type": "code",
   "execution_count": 5,
   "id": "9793e76d",
   "metadata": {},
   "outputs": [
    {
     "data": {
      "text/html": [
       "<style  type=\"text/css\" >\n",
       "</style><table id=\"T_e7627_\" ><thead>    <tr>        <th class=\"col_heading level0 col0\" >Час добавления</th>        <th class=\"col_heading level0 col1\" >Вероятность отк.расп. в этот час, %</th>    </tr></thead><tbody>\n",
       "                <tr>\n",
       "                                <td id=\"T_e7627_row0_col0\" class=\"data row0 col0\" >0</td>\n",
       "                        <td id=\"T_e7627_row0_col1\" class=\"data row0 col1\" >38.100000</td>\n",
       "            </tr>\n",
       "            <tr>\n",
       "                                <td id=\"T_e7627_row1_col0\" class=\"data row1 col0\" >9</td>\n",
       "                        <td id=\"T_e7627_row1_col1\" class=\"data row1 col1\" >19.000000</td>\n",
       "            </tr>\n",
       "            <tr>\n",
       "                                <td id=\"T_e7627_row2_col0\" class=\"data row2 col0\" >10</td>\n",
       "                        <td id=\"T_e7627_row2_col1\" class=\"data row2 col1\" >14.300000</td>\n",
       "            </tr>\n",
       "            <tr>\n",
       "                                <td id=\"T_e7627_row3_col0\" class=\"data row3 col0\" >13</td>\n",
       "                        <td id=\"T_e7627_row3_col1\" class=\"data row3 col1\" >9.500000</td>\n",
       "            </tr>\n",
       "            <tr>\n",
       "                                <td id=\"T_e7627_row4_col0\" class=\"data row4 col0\" >1</td>\n",
       "                        <td id=\"T_e7627_row4_col1\" class=\"data row4 col1\" >4.800000</td>\n",
       "            </tr>\n",
       "            <tr>\n",
       "                                <td id=\"T_e7627_row5_col0\" class=\"data row5 col0\" >11</td>\n",
       "                        <td id=\"T_e7627_row5_col1\" class=\"data row5 col1\" >4.800000</td>\n",
       "            </tr>\n",
       "            <tr>\n",
       "                                <td id=\"T_e7627_row6_col0\" class=\"data row6 col0\" >12</td>\n",
       "                        <td id=\"T_e7627_row6_col1\" class=\"data row6 col1\" >4.800000</td>\n",
       "            </tr>\n",
       "            <tr>\n",
       "                                <td id=\"T_e7627_row7_col0\" class=\"data row7 col0\" >19</td>\n",
       "                        <td id=\"T_e7627_row7_col1\" class=\"data row7 col1\" >4.800000</td>\n",
       "            </tr>\n",
       "    </tbody></table>"
      ],
      "text/plain": [
       "<pandas.io.formats.style.Styler at 0x96dacd0>"
      ]
     },
     "execution_count": 5,
     "metadata": {},
     "output_type": "execute_result"
    }
   ],
   "source": [
    "prsnt = data[data['name'] == need_spec]['date_adding'].dt.hour.value_counts()\n",
    "prsnt_hours = round((prsnt / prsnt.values.sum()) *100, 1)\n",
    "prsnt_hours = prsnt_hours.reset_index()\n",
    "prsnt_hours.columns = ['Час добавления', 'Вероятность отк.расп. в этот час, %']\n",
    "prsnt_hours.style.hide_index()"
   ]
  },
  {
   "cell_type": "markdown",
   "id": "3c681930",
   "metadata": {},
   "source": [
    "### Вероятность открытия ячеек по дням недели."
   ]
  },
  {
   "cell_type": "code",
   "execution_count": 6,
   "id": "af0b68ff",
   "metadata": {},
   "outputs": [
    {
     "data": {
      "text/html": [
       "<style  type=\"text/css\" >\n",
       "</style><table id=\"T_86e25_\" ><thead>    <tr>        <th class=\"col_heading level0 col0\" >День недели</th>        <th class=\"col_heading level0 col1\" >Вероятность открытия расп., %</th>    </tr></thead><tbody>\n",
       "                <tr>\n",
       "                                <td id=\"T_86e25_row0_col0\" class=\"data row0 col0\" >Четверг</td>\n",
       "                        <td id=\"T_86e25_row0_col1\" class=\"data row0 col1\" >33.333333</td>\n",
       "            </tr>\n",
       "            <tr>\n",
       "                                <td id=\"T_86e25_row1_col0\" class=\"data row1 col0\" >Вторник</td>\n",
       "                        <td id=\"T_86e25_row1_col1\" class=\"data row1 col1\" >23.809524</td>\n",
       "            </tr>\n",
       "            <tr>\n",
       "                                <td id=\"T_86e25_row2_col0\" class=\"data row2 col0\" >Пятница</td>\n",
       "                        <td id=\"T_86e25_row2_col1\" class=\"data row2 col1\" >23.809524</td>\n",
       "            </tr>\n",
       "            <tr>\n",
       "                                <td id=\"T_86e25_row3_col0\" class=\"data row3 col0\" >Среда</td>\n",
       "                        <td id=\"T_86e25_row3_col1\" class=\"data row3 col1\" >14.285714</td>\n",
       "            </tr>\n",
       "            <tr>\n",
       "                                <td id=\"T_86e25_row4_col0\" class=\"data row4 col0\" >Воскресенье</td>\n",
       "                        <td id=\"T_86e25_row4_col1\" class=\"data row4 col1\" >4.761905</td>\n",
       "            </tr>\n",
       "    </tbody></table>"
      ],
      "text/plain": [
       "<pandas.io.formats.style.Styler at 0xa0a2550>"
      ]
     },
     "execution_count": 6,
     "metadata": {},
     "output_type": "execute_result"
    }
   ],
   "source": [
    "week_day = data[data['name'] == need_spec]['date_adding'].dt.day_name().value_counts()\n",
    "rus_weekday = {\n",
    "    'Monday': 'Понедельник',\n",
    "    'Tuesday': 'Вторник',\n",
    "    'Wednesday': 'Среда',\n",
    "    'Thursday': 'Четверг',\n",
    "    'Friday': 'Пятница',\n",
    "    'Saturday': 'Суббота',\n",
    "    'Sunday': 'Воскресенье'\n",
    "}\n",
    "lst_days = []\n",
    "for day in week_day.index:\n",
    "    lst_days.append(rus_weekday[day])\n",
    "week_day.index = lst_days\n",
    "prsn_week_day = (week_day/ week_day.values.sum()) *100\n",
    "prsn_week_day = prsn_week_day.reset_index()\n",
    "prsn_week_day.columns = ['День недели', 'Вероятность открытия расп., %']\n",
    "prsn_week_day.style.hide_index()"
   ]
  }
 ],
 "metadata": {
  "kernelspec": {
   "display_name": "Python 3",
   "language": "python",
   "name": "python3"
  },
  "language_info": {
   "codemirror_mode": {
    "name": "ipython",
    "version": 3
   },
   "file_extension": ".py",
   "mimetype": "text/x-python",
   "name": "python",
   "nbconvert_exporter": "python",
   "pygments_lexer": "ipython3",
   "version": "3.8.8"
  }
 },
 "nbformat": 4,
 "nbformat_minor": 5
}
